{
 "cells": [
  {
   "cell_type": "markdown",
   "metadata": {},
   "source": [
    "# Deep Learning Quick Review"
   ]
  },
  {
   "cell_type": "markdown",
   "metadata": {},
   "source": [
    "## 常見Deep learning framework\n"
   ]
  },
  {
   "cell_type": "markdown",
   "metadata": {},
   "source": [
    "* Tensorflow (from google)\n",
    "* Keras (integrate with tensorflow now)\n",
    "* Pytorch (from facebook)\n",
    "* MXNet (from Apache)\n",
    "* Caffe (from Berkeley)\n",
    "* Theano (from Montreal)\n",
    "* Paddle (from Baidu)"
   ]
  },
  {
   "cell_type": "markdown",
   "metadata": {},
   "source": [
    "## 3 Key factors in deep learning"
   ]
  },
  {
   "cell_type": "markdown",
   "metadata": {},
   "source": [
    "* Data\n",
    "* Architecture\n",
    "* Loss function"
   ]
  },
  {
   "cell_type": "markdown",
   "metadata": {},
   "source": [
    "### Data"
   ]
  },
  {
   "cell_type": "markdown",
   "metadata": {},
   "source": [
    "Different kinds of data: \n",
    "\n",
    "* tabular data\n",
    "* image\n",
    "* text\n",
    "* voice\n",
    "* video\n",
    "* ...  \n",
    "\n",
    "Today we are going to talk about **image**.\n",
    "\n",
    "**Common image types:**\n",
    "1. .tiff\n",
    "2. .png\n",
    "3. .jpeg\n",
    "\n",
    "**Common image store layouts:**\n",
    "1. Store by folder\n",
    "<img src=\"img/image by folder.png\">  \n",
    "\n",
    "\n",
    "2. Store by table (with path and label)  \n",
    "Most table is saved in csv, xml, xlsx...files\n",
    "<img src=\"img/image by table.png\">"
   ]
  },
  {
   "cell_type": "markdown",
   "metadata": {},
   "source": [
    "### Model architecture"
   ]
  },
  {
   "cell_type": "markdown",
   "metadata": {},
   "source": [
    "Model architecture example:\n",
    "<img src=\"img/LeNet architecture.png\">\n",
    "\n",
    "Components:\n",
    "CNN, Linear(Fully connected layer), Activation funciton"
   ]
  },
  {
   "cell_type": "markdown",
   "metadata": {},
   "source": [
    "### Loss(Cost, Error...) function"
   ]
  },
  {
   "cell_type": "markdown",
   "metadata": {},
   "source": [
    "<img src=\"img/loss function.png\">"
   ]
  },
  {
   "cell_type": "markdown",
   "metadata": {},
   "source": [
    "# Pytorch Introduction"
   ]
  },
  {
   "cell_type": "markdown",
   "metadata": {},
   "source": [
    "Official pytorch website: https://pytorch.org"
   ]
  },
  {
   "cell_type": "markdown",
   "metadata": {},
   "source": [
    "## Pytorch features"
   ]
  },
  {
   "cell_type": "markdown",
   "metadata": {},
   "source": [
    "1. Fully integrate with python\n",
    "2. More pythonic\n",
    "3. Easy to debug (It could debug by python debugger)\n",
    "4. Highly customize your training process"
   ]
  },
  {
   "cell_type": "markdown",
   "metadata": {},
   "source": [
    "## Common configurations in CV training"
   ]
  },
  {
   "cell_type": "markdown",
   "metadata": {},
   "source": [
    "* Image size\n",
    "* Batch size\n",
    "* Device\n",
    "* Activation function\n",
    "* Epochs\n",
    "* Optimizer\n",
    "* Learning rate"
   ]
  },
  {
   "cell_type": "markdown",
   "metadata": {},
   "source": [
    "## Basic pytorch components"
   ]
  },
  {
   "cell_type": "markdown",
   "metadata": {},
   "source": [
    "* Dataset\n",
    "* Data transform (data preprocessing)\n",
    "* Dataloader\n",
    "* Model\n",
    "* Optimizer\n",
    "* Loss function\n",
    "* Training loop\n",
    "* Evaluation loop"
   ]
  },
  {
   "cell_type": "markdown",
   "metadata": {},
   "source": [
    "# Transfer Learning in Pytorch"
   ]
  },
  {
   "cell_type": "markdown",
   "metadata": {},
   "source": [
    "Original tutorial from pytorch official website: https://pytorch.org/tutorials/beginner/data_loading_tutorial.html"
   ]
  },
  {
   "cell_type": "code",
   "execution_count": 1,
   "metadata": {
    "ExecuteTime": {
     "end_time": "2020-02-06T07:07:24.504881Z",
     "start_time": "2020-02-06T07:07:21.500964Z"
    }
   },
   "outputs": [],
   "source": [
    "import numpy as np\n",
    "import matplotlib.pyplot as plt\n",
    "import time\n",
    "import os\n",
    "import copy\n",
    "\n",
    "import PIL\n",
    "\n",
    "import torch\n",
    "import torch.nn as nn\n",
    "import torch.optim as optim\n",
    "from torch.optim import lr_scheduler\n",
    "import torchvision\n",
    "from torchvision import datasets, models, transforms\n",
    "\n",
    "plt.ion()   # interactive mode"
   ]
  },
  {
   "cell_type": "markdown",
   "metadata": {},
   "source": [
    "## Data transform\n",
    "\n",
    "**Why do we need to do data augmentation?**  \n",
    "* Making more data\n",
    "* More fitting in real world\n",
    "\n",
    "**Common data augmentation methods:**  \n",
    "\n",
    "https://github.com/Paperspace/DataAugmentationForObjectDetection\n",
    "\n",
    "**Horizontal Flipping**\n",
    "<img src=\"img/data_aug1.png\">\n",
    "\n",
    "**Scaling**\n",
    "<img src=\"img/data_aug3.png\">\n",
    "\n",
    "**Translation**\n",
    "<img src=\"img/data_aug4.png\">\n",
    "\n",
    "**Rotation**\n",
    "<img src=\"img/data_aug5.png\">\n",
    "\n",
    "**Shearing**\n",
    "<img src=\"img/data_aug6.png\">\n",
    "\n",
    "**Resizing**\n",
    "<img src=\"img/data_aug2.png\">"
   ]
  },
  {
   "cell_type": "code",
   "execution_count": 2,
   "metadata": {
    "ExecuteTime": {
     "end_time": "2020-02-06T07:09:33.137947Z",
     "start_time": "2020-02-06T07:09:33.123017Z"
    }
   },
   "outputs": [],
   "source": [
    "# Using transform.Compose to transform the image\n",
    "# Remember transform to tensor before normalize image\n",
    "data_transforms = {\n",
    "    'train': transforms.Compose([\n",
    "        transforms.RandomResizedCrop(224), # Normalize image size\n",
    "        transforms.RandomHorizontalFlip(), # Data augmentation\n",
    "        transforms.ToTensor(), # Move numpyt to tensor\n",
    "        transforms.Normalize([0.485, 0.456, 0.406], [0.229, 0.224, 0.225]) # Image normalization\n",
    "    ]),\n",
    "    'test': transforms.Compose([\n",
    "        transforms.Resize(256), # Only resize on image\n",
    "        transforms.CenterCrop(224),\n",
    "        transforms.ToTensor(),\n",
    "        transforms.Normalize([0.485, 0.456, 0.406], [0.229, 0.224, 0.225])\n",
    "    ]),\n",
    "}"
   ]
  },
  {
   "cell_type": "markdown",
   "metadata": {},
   "source": [
    "## Dataset & data loader"
   ]
  },
  {
   "cell_type": "code",
   "execution_count": 3,
   "metadata": {
    "ExecuteTime": {
     "end_time": "2020-02-06T07:12:15.393601Z",
     "start_time": "2020-02-06T07:12:15.369359Z"
    }
   },
   "outputs": [],
   "source": [
    "# data directory\n",
    "data_dir = 'dataset'\n",
    "\n",
    "# dataset\n",
    "# configuration:\n",
    "# folder path, data_transform\n",
    "image_datasets = {x: datasets.ImageFolder(os.path.join(data_dir, x),\n",
    "                                          data_transforms[x])\n",
    "                  for x in ['train', 'test']}\n",
    "\n",
    "# dataloader\n",
    "# configuration dataloader:\n",
    "# dataset, shuffle, batch_size, workers\n",
    "dataloaders = {x: torch.utils.data.DataLoader(image_datasets[x], batch_size=4,\n",
    "                                             shuffle=True, num_workers=4)\n",
    "              for x in ['train', 'test']}\n",
    "\n",
    "# dataset size\n",
    "dataset_sizes = {x: len(image_datasets[x]) for x in ['train', 'test']}\n",
    "\n",
    "# class\n",
    "class_names = image_datasets['train'].classes\n",
    "\n",
    "# device\n",
    "device = torch.device(\"cuda:0\" if torch.cuda.is_available() else \"cpu\")"
   ]
  },
  {
   "cell_type": "markdown",
   "metadata": {},
   "source": [
    "### Keeping image paths and class map in dataset object"
   ]
  },
  {
   "cell_type": "code",
   "execution_count": 24,
   "metadata": {
    "ExecuteTime": {
     "end_time": "2020-02-06T07:55:10.295726Z",
     "start_time": "2020-02-06T07:55:10.272954Z"
    }
   },
   "outputs": [
    {
     "data": {
      "text/plain": [
       "{'train': Dataset ImageFolder\n",
       "     Number of datapoints: 20\n",
       "     Root location: dataset/train\n",
       "     StandardTransform\n",
       " Transform: Compose(\n",
       "                RandomResizedCrop(size=(224, 224), scale=(0.08, 1.0), ratio=(0.75, 1.3333), interpolation=PIL.Image.BILINEAR)\n",
       "                RandomHorizontalFlip(p=0.5)\n",
       "                ToTensor()\n",
       "                Normalize(mean=[0.485, 0.456, 0.406], std=[0.229, 0.224, 0.225])\n",
       "            ),\n",
       " 'test': Dataset ImageFolder\n",
       "     Number of datapoints: 9\n",
       "     Root location: dataset/test\n",
       "     StandardTransform\n",
       " Transform: Compose(\n",
       "                Resize(size=256, interpolation=PIL.Image.BILINEAR)\n",
       "                CenterCrop(size=(224, 224))\n",
       "                ToTensor()\n",
       "                Normalize(mean=[0.485, 0.456, 0.406], std=[0.229, 0.224, 0.225])\n",
       "            )}"
      ]
     },
     "execution_count": 24,
     "metadata": {},
     "output_type": "execute_result"
    }
   ],
   "source": [
    "image_datasets"
   ]
  },
  {
   "cell_type": "code",
   "execution_count": 25,
   "metadata": {
    "ExecuteTime": {
     "end_time": "2020-02-06T07:55:11.032389Z",
     "start_time": "2020-02-06T07:55:11.020964Z"
    }
   },
   "outputs": [
    {
     "data": {
      "text/plain": [
       "[('dataset/train/apeach/apeach.png', 0),\n",
       " ('dataset/train/apeach/kakao5.png', 0),\n",
       " ('dataset/train/con/con.png', 1),\n",
       " ('dataset/train/frodo/frodo.png', 2),\n",
       " ('dataset/train/frodo/kakao10.png', 2),\n",
       " ('dataset/train/frodo/kakao6.png', 2),\n",
       " ('dataset/train/jay-g/jay-g.png', 3),\n",
       " ('dataset/train/jay-g/kakao9.png', 3),\n",
       " ('dataset/train/muzi/kakao12.png', 4),\n",
       " ('dataset/train/muzi/kakao7.png', 4),\n",
       " ('dataset/train/muzi/muzi.png', 4),\n",
       " ('dataset/train/neo/kakao3.png', 5),\n",
       " ('dataset/train/neo/kakao8.png', 5),\n",
       " ('dataset/train/neo/neo.png', 5),\n",
       " ('dataset/train/ryan/kakao1.png', 6),\n",
       " ('dataset/train/ryan/kakao2.png', 6),\n",
       " ('dataset/train/ryan/kakao4.png', 6),\n",
       " ('dataset/train/ryan/ryan.png', 6),\n",
       " ('dataset/train/tube/kakao11.png', 7),\n",
       " ('dataset/train/tube/tube.png', 7)]"
      ]
     },
     "execution_count": 25,
     "metadata": {},
     "output_type": "execute_result"
    }
   ],
   "source": [
    "# image stored layout\n",
    "image_datasets['train'].imgs"
   ]
  },
  {
   "cell_type": "code",
   "execution_count": 26,
   "metadata": {
    "ExecuteTime": {
     "end_time": "2020-02-06T07:55:11.369322Z",
     "start_time": "2020-02-06T07:55:11.359886Z"
    }
   },
   "outputs": [
    {
     "data": {
      "text/plain": [
       "{'apeach': 0,\n",
       " 'con': 1,\n",
       " 'frodo': 2,\n",
       " 'jay-g': 3,\n",
       " 'muzi': 4,\n",
       " 'neo': 5,\n",
       " 'ryan': 6,\n",
       " 'tube': 7}"
      ]
     },
     "execution_count": 26,
     "metadata": {},
     "output_type": "execute_result"
    }
   ],
   "source": [
    "# class mapping dictionary\n",
    "image_datasets['train'].class_to_idx"
   ]
  },
  {
   "cell_type": "code",
   "execution_count": 27,
   "metadata": {
    "ExecuteTime": {
     "end_time": "2020-02-06T07:55:11.785727Z",
     "start_time": "2020-02-06T07:55:11.768291Z"
    }
   },
   "outputs": [
    {
     "data": {
      "text/plain": [
       "{'train': 20, 'test': 9}"
      ]
     },
     "execution_count": 27,
     "metadata": {},
     "output_type": "execute_result"
    }
   ],
   "source": [
    "# dataset size\n",
    "dataset_sizes"
   ]
  },
  {
   "cell_type": "markdown",
   "metadata": {},
   "source": [
    "#### Customize your dataset"
   ]
  },
  {
   "cell_type": "code",
   "execution_count": null,
   "metadata": {},
   "outputs": [],
   "source": [
    "class CustomizeDataset(Dataset):  \n",
    "    \"\"\"Customize dataset.\"\"\"\n",
    "\n",
    "    def __init__(self, csv_file, root_dir, transform=None):\n",
    "        \"\"\"\n",
    "        Args:\n",
    "            csv_file (string): Path to the csv file with annotations.\n",
    "            root_dir (string): Directory with all the images.\n",
    "            transform (callable, optional): Optional transform to be applied\n",
    "                on a sample.\n",
    "        \"\"\"\n",
    "        # Attributes of dataset\n",
    "        self.landmarks_frame = pd.read_csv(csv_file)\n",
    "        self.root_dir = root_dir\n",
    "        self.transform = transform\n",
    "\n",
    "    def __len__(self):\n",
    "        # How many images in your dataset?\n",
    "        return len(self.landmarks_frame)\n",
    "\n",
    "    def __getitem__(self, idx):\n",
    "        # Image preprocessing process:\n",
    "        if torch.is_tensor(idx):\n",
    "            idx = idx.tolist()\n",
    "\n",
    "        img_name = os.path.join(self.root_dir,\n",
    "                                self.landmarks_frame.iloc[idx, 0])\n",
    "        image = io.imread(img_name)\n",
    "        landmarks = self.landmarks_frame.iloc[idx, 1:]\n",
    "        landmarks = np.array([landmarks])\n",
    "        landmarks = landmarks.astype('float').reshape(-1, 2)\n",
    "        sample = {'image': image, 'landmarks': landmarks}\n",
    "\n",
    "        if self.transform:\n",
    "            sample = self.transform(sample)\n",
    "\n",
    "        return sample"
   ]
  },
  {
   "cell_type": "markdown",
   "metadata": {},
   "source": [
    "### Basic image process knowledge"
   ]
  },
  {
   "cell_type": "markdown",
   "metadata": {},
   "source": [
    "* Image represent by color space (mostly is in rgb).\n",
    "* Range from 0 ~ 255, 0 is black, 255 is white\n",
    "* The value of pixel is noted by x and y coordination.\n",
    "<img src=\"img/image coordination.png\">"
   ]
  },
  {
   "cell_type": "markdown",
   "metadata": {},
   "source": [
    "### Using data loader to read the image data from dataset"
   ]
  },
  {
   "cell_type": "markdown",
   "metadata": {},
   "source": [
    "**Common image space**\n",
    "\n",
    "#### RGB\n",
    "<img src=\"img/rgb.jpg\">\n",
    "picture from: https://kknews.cc/design/q3bgalr.html\n",
    "\n",
    "#### HSV\n",
    "* 色相（H）是色彩的基本属性，就是平常所说的颜色名称，如红色、黄色等。\n",
    "* 饱和度（S）是指色彩的纯度，越高色彩越纯，低则逐渐变灰，取0-100%的数值。\n",
    "* 明度（V），亮度（L），取0-100%。  \n",
    "https://zh.wikipedia.org/wiki/HSL和HSV色彩空间\n",
    "<img src=\"img/hsv.png\">\n",
    "\n",
    "#### CMYK\n",
    "<img src=\"img/cmyk.jpg\">\n",
    "picture from: https://kknews.cc/design/q3bgalr.html"
   ]
  },
  {
   "cell_type": "code",
   "execution_count": 31,
   "metadata": {
    "ExecuteTime": {
     "end_time": "2020-02-06T09:07:24.905424Z",
     "start_time": "2020-02-06T09:07:24.896480Z"
    }
   },
   "outputs": [],
   "source": [
    "# Denormalize the image\n",
    "def imshow(inp, title=None):\n",
    "    \"\"\"Imshow for Tensor.\"\"\"\n",
    "    inp = inp.numpy().transpose((1, 2, 0)) #BGR to RGB\n",
    "    mean = np.array([0.485, 0.456, 0.406])\n",
    "    std = np.array([0.229, 0.224, 0.225])\n",
    "    inp = std * inp + mean # denormalization\n",
    "    inp = np.clip(inp, 0, 1) # keep image value between 0 ~ 1\n",
    "    plt.imshow(inp)\n",
    "    if title is not None:\n",
    "        plt.title(title)\n",
    "    plt.pause(0.001)  # pause a bit so that plots are updated"
   ]
  },
  {
   "cell_type": "markdown",
   "metadata": {},
   "source": [
    "Using generator to read the data:\n",
    "* Better to save memory (ram)"
   ]
  },
  {
   "cell_type": "code",
   "execution_count": 33,
   "metadata": {
    "ExecuteTime": {
     "end_time": "2020-02-06T09:07:28.923031Z",
     "start_time": "2020-02-06T09:07:28.512840Z"
    }
   },
   "outputs": [
    {
     "data": {
      "image/png": "[encoded data removed]",
      "text/plain": [
       "<Figure size 432x288 with 1 Axes>"
      ]
     },
     "metadata": {
      "needs_background": "light"
     },
     "output_type": "display_data"
    }
   ],
   "source": [
    "inputs, classes = next(iter(dataloaders['train']))\n",
    "\n",
    "# Make a grid from batch\n",
    "out = torchvision.utils.make_grid(inputs)\n",
    "\n",
    "imshow(out, title=[class_names[x] for x in classes])"
   ]
  },
  {
   "cell_type": "code",
   "execution_count": 35,
   "metadata": {
    "ExecuteTime": {
     "end_time": "2020-02-06T09:12:30.302782Z",
     "start_time": "2020-02-06T09:12:30.139439Z"
    },
    "scrolled": true
   },
   "outputs": [
    {
     "name": "stdout",
     "output_type": "stream",
     "text": [
      "tensor([2, 0, 2, 0])\n",
      "torch.Size([4, 3, 224, 224])\n",
      "tensor([[[[-0.4397, -0.4054, -0.4226,  ..., -1.4158, -1.4500, -1.4672],\n",
      "          [-0.4568, -0.4397, -0.4397,  ..., -0.6623, -0.6794, -0.6794],\n",
      "          [-0.4739, -0.4568, -0.4739,  ...,  0.0569,  0.0569,  0.0912],\n",
      "          ...,\n",
      "          [-1.6555, -1.7069, -1.7754,  ...,  0.4166,  0.4166,  0.4166],\n",
      "          [-1.7069, -1.6898, -1.7240,  ...,  0.4166,  0.4166,  0.4166],\n",
      "          [-1.7583, -1.6727, -1.6898,  ...,  0.4166,  0.4166,  0.4166]],\n",
      "\n",
      "         [[-0.6702, -0.6352, -0.6352,  ...,  1.2556,  1.2906,  1.3081],\n",
      "          [-0.6877, -0.6527, -0.6527,  ...,  1.5357,  1.5707,  1.5882],\n",
      "          [-0.7052, -0.6702, -0.6877,  ...,  1.8158,  1.8508,  1.8859],\n",
      "          ...,\n",
      "          [-1.5805, -1.5980, -1.6331,  ..., -1.2304, -1.2304, -1.2479],\n",
      "          [-1.5455, -1.5105, -1.5280,  ..., -1.2129, -1.2304, -1.2304],\n",
      "          [-1.5105, -1.4055, -1.4055,  ..., -1.2129, -1.2304, -1.2304]],\n",
      "\n",
      "         [[-1.3513, -1.3339, -1.3339,  ...,  1.5942,  1.6640,  1.7163],\n",
      "          [-1.3687, -1.3339, -1.3513,  ...,  1.8557,  1.9254,  1.9777],\n",
      "          [-1.3687, -1.3513, -1.3687,  ...,  2.0997,  2.1694,  2.2217],\n",
      "          ...,\n",
      "          [-1.4907, -1.5081, -1.5256,  ..., -0.8284, -0.8284, -0.8458],\n",
      "          [-1.4559, -1.4210, -1.4384,  ..., -0.8284, -0.8284, -0.8284],\n",
      "          [-1.4210, -1.3164, -1.3339,  ..., -0.8110, -0.8284, -0.8284]]],\n",
      "\n",
      "\n",
      "        [[[ 2.1804,  2.1804,  2.1804,  ...,  2.1804,  2.1804,  2.1804],\n",
      "          [ 2.1804,  2.1804,  2.1804,  ...,  2.1804,  2.1804,  2.1804],\n",
      "          [ 2.1804,  2.1804,  2.1804,  ...,  2.1804,  2.1804,  2.1804],\n",
      "          ...,\n",
      "          [ 2.1804,  2.1804,  2.1804,  ...,  2.1804,  2.1804,  2.1804],\n",
      "          [ 2.1804,  2.1804,  2.1804,  ...,  2.1804,  2.1804,  2.1804],\n",
      "          [ 2.1804,  2.1804,  2.1804,  ...,  2.1804,  2.1804,  2.1804]],\n",
      "\n",
      "         [[ 0.5378,  0.5378,  0.5378,  ...,  0.5378,  0.5378,  0.5378],\n",
      "          [ 0.5378,  0.5378,  0.5378,  ...,  0.5378,  0.5378,  0.5378],\n",
      "          [ 0.5378,  0.5378,  0.5378,  ...,  0.5378,  0.5378,  0.5378],\n",
      "          ...,\n",
      "          [ 0.5378,  0.5378,  0.5378,  ...,  0.5378,  0.5378,  0.5378],\n",
      "          [ 0.5378,  0.5378,  0.5378,  ...,  0.5378,  0.5378,  0.5378],\n",
      "          [ 0.5378,  0.5378,  0.5378,  ...,  0.5378,  0.5378,  0.5378]],\n",
      "\n",
      "         [[ 1.1759,  1.1759,  1.1759,  ...,  1.1759,  1.1759,  1.1759],\n",
      "          [ 1.1759,  1.1759,  1.1759,  ...,  1.1759,  1.1759,  1.1759],\n",
      "          [ 1.1759,  1.1759,  1.1759,  ...,  1.1759,  1.1759,  1.1759],\n",
      "          ...,\n",
      "          [ 1.1759,  1.1759,  1.1759,  ...,  1.1759,  1.1759,  1.1759],\n",
      "          [ 1.1759,  1.1759,  1.1759,  ...,  1.1759,  1.1759,  1.1759],\n",
      "          [ 1.1759,  1.1759,  1.1759,  ...,  1.1759,  1.1759,  1.1759]]],\n",
      "\n",
      "\n",
      "        [[[ 0.6906,  0.6906,  0.6906,  ..., -1.8782, -1.8610, -1.8439],\n",
      "          [ 0.6906,  0.6906,  0.6906,  ..., -1.9295, -1.9124, -1.8953],\n",
      "          [ 0.6906,  0.6906,  0.6906,  ..., -2.0323, -2.0323, -2.0323],\n",
      "          ...,\n",
      "          [-0.4397, -0.4397, -0.4568,  ...,  2.0434,  2.0434,  2.0434],\n",
      "          [-0.6623, -0.6623, -0.6794,  ...,  2.0434,  2.0434,  2.0434],\n",
      "          [-0.7479, -0.7479, -0.7650,  ...,  2.0434,  2.0434,  2.0434]],\n",
      "\n",
      "         [[ 0.2227,  0.2227,  0.2227,  ..., -1.8606, -1.8431, -1.8256],\n",
      "          [ 0.2227,  0.2227,  0.2227,  ..., -1.8957, -1.8782, -1.8606],\n",
      "          [ 0.2227,  0.2227,  0.2227,  ..., -1.9657, -1.9657, -1.9482],\n",
      "          ...,\n",
      "          [-0.7227, -0.7227, -0.7227,  ...,  1.4657,  1.4657,  1.4657],\n",
      "          [-0.9153, -0.9153, -0.8978,  ...,  1.4657,  1.4657,  1.4657],\n",
      "          [-0.9853, -0.9853, -0.9678,  ...,  1.4657,  1.4657,  1.4657]],\n",
      "\n",
      "         [[-0.6367, -0.6367, -0.6367,  ..., -1.6999, -1.6824, -1.6824],\n",
      "          [-0.6367, -0.6367, -0.6367,  ..., -1.7173, -1.6999, -1.6999],\n",
      "          [-0.6367, -0.6367, -0.6367,  ..., -1.7696, -1.7522, -1.7522],\n",
      "          ...,\n",
      "          [-1.1247, -1.1247, -1.1247,  ..., -1.0898, -1.0898, -1.0898],\n",
      "          [-1.2119, -1.2119, -1.2119,  ..., -1.0898, -1.0898, -1.0898],\n",
      "          [-1.2467, -1.2467, -1.2467,  ..., -1.0898, -1.0898, -1.0898]]],\n",
      "\n",
      "\n",
      "        [[[ 2.0092,  2.0092,  2.0092,  ...,  2.1462,  2.1290,  2.1119],\n",
      "          [ 2.0092,  2.0092,  2.0092,  ...,  2.1633,  2.1462,  2.1290],\n",
      "          [ 2.0092,  2.0092,  2.0092,  ...,  2.1804,  2.1633,  2.1633],\n",
      "          ...,\n",
      "          [ 2.0777,  2.0777,  2.0777,  ...,  0.1939, -0.0629, -0.2684],\n",
      "          [ 2.0777,  2.0777,  2.0777,  ..., -0.4911, -0.7308, -0.9020],\n",
      "          [ 2.0777,  2.0777,  2.0777,  ..., -0.9363, -1.1760, -1.3302]],\n",
      "\n",
      "         [[ 2.3235,  2.3235,  2.3235,  ...,  2.3936,  2.3761,  2.3761],\n",
      "          [ 2.3235,  2.3235,  2.3235,  ...,  2.3936,  2.3761,  2.3761],\n",
      "          [ 2.3235,  2.3235,  2.3235,  ...,  2.3936,  2.3761,  2.3761],\n",
      "          ...,\n",
      "          [ 2.3410,  2.3410,  2.3410,  ...,  0.3277,  0.0651, -0.1450],\n",
      "          [ 2.3410,  2.3410,  2.3410,  ..., -0.3550, -0.6176, -0.7927],\n",
      "          [ 2.3410,  2.3410,  2.3410,  ..., -0.8102, -1.0728, -1.2304]],\n",
      "\n",
      "         [[ 2.5703,  2.5703,  2.5703,  ...,  2.6400,  2.6226,  2.6226],\n",
      "          [ 2.5703,  2.5703,  2.5703,  ...,  2.6400,  2.6226,  2.6226],\n",
      "          [ 2.5703,  2.5703,  2.5703,  ...,  2.6400,  2.6226,  2.6226],\n",
      "          ...,\n",
      "          [ 2.6051,  2.6051,  2.6051,  ...,  0.5136,  0.2522,  0.0605],\n",
      "          [ 2.6051,  2.6051,  2.6051,  ..., -0.1661, -0.4275, -0.6018],\n",
      "          [ 2.6051,  2.6051,  2.6051,  ..., -0.6193, -0.8807, -1.0376]]]])\n"
     ]
    }
   ],
   "source": [
    "sample_1, sample_1_classes = next(iter(dataloaders['train']))\n",
    "\n",
    "print(sample_1_classes)\n",
    "print(sample_1.shape)\n",
    "print(sample_1)"
   ]
  },
  {
   "cell_type": "markdown",
   "metadata": {},
   "source": [
    "## Training loop"
   ]
  },
  {
   "cell_type": "code",
   "execution_count": 36,
   "metadata": {
    "ExecuteTime": {
     "end_time": "2020-02-06T09:19:35.376129Z",
     "start_time": "2020-02-06T09:19:35.352244Z"
    }
   },
   "outputs": [],
   "source": [
    "def train_model(model, criterion, optimizer, scheduler, num_epochs=25):\n",
    "    since = time.time()\n",
    "\n",
    "    # Some local variable of training loop.\n",
    "    best_model_wts = copy.deepcopy(model.state_dict())\n",
    "    best_acc = 0.0\n",
    "    \n",
    "    # Start training...\n",
    "    for epoch in range(num_epochs):\n",
    "        print('Epoch {}/{}'.format(epoch, num_epochs - 1))\n",
    "        print('-' * 10)\n",
    "\n",
    "        # Each epoch has a training and validation phase\n",
    "        for phase in ['train', 'test']:\n",
    "            if phase == 'train':\n",
    "                model.train()  # Set model to training mode\n",
    "            else:\n",
    "                model.eval()   # Set model to evaluate mode\n",
    "\n",
    "            running_loss = 0.0\n",
    "            running_corrects = 0\n",
    "\n",
    "            # Iterate over data.\n",
    "            for inputs, labels in dataloaders[phase]:\n",
    "                inputs = inputs.to(device)\n",
    "                labels = labels.to(device)\n",
    "\n",
    "                # zero the parameter gradients\n",
    "                optimizer.zero_grad()\n",
    "\n",
    "                # forward\n",
    "                # track history if only in train\n",
    "                with torch.set_grad_enabled(phase == 'train'):\n",
    "                    outputs = model(inputs)\n",
    "                    _, preds = torch.max(outputs, 1)\n",
    "                    loss = criterion(outputs, labels)\n",
    "\n",
    "                    # backward + optimize only if in training phase\n",
    "                    if phase == 'train':\n",
    "                        loss.backward()\n",
    "                        optimizer.step()\n",
    "\n",
    "                # statistics\n",
    "                running_loss += loss.item() * inputs.size(0)\n",
    "                running_corrects += torch.sum(preds == labels.data)\n",
    "                \n",
    "            # learning rate scheduler\n",
    "            if phase == 'train':\n",
    "                scheduler.step()\n",
    "\n",
    "            # calculate loss\n",
    "            epoch_loss = running_loss / dataset_sizes[phase]\n",
    "            epoch_acc = running_corrects.double() / dataset_sizes[phase]\n",
    "\n",
    "            print('{} Loss: {:.4f} Acc: {:.4f}'.format(\n",
    "                phase, epoch_loss, epoch_acc))\n",
    "\n",
    "            # deep copy the model\n",
    "            # save best model\n",
    "            if phase == 'test' and epoch_acc > best_acc:\n",
    "                best_acc = epoch_acc\n",
    "                best_model_wts = copy.deepcopy(model.state_dict())\n",
    "\n",
    "        print()\n",
    "\n",
    "    time_elapsed = time.time() - since\n",
    "    print('Training complete in {:.0f}m {:.0f}s'.format(\n",
    "        time_elapsed // 60, time_elapsed % 60))\n",
    "    print('Best test Acc: {:4f}'.format(best_acc))\n",
    "\n",
    "    # load best model weights\n",
    "    model.load_state_dict(best_model_wts)\n",
    "    return model"
   ]
  },
  {
   "cell_type": "markdown",
   "metadata": {},
   "source": [
    "### Inference function"
   ]
  },
  {
   "cell_type": "code",
   "execution_count": 41,
   "metadata": {
    "ExecuteTime": {
     "end_time": "2020-02-06T09:30:31.518922Z",
     "start_time": "2020-02-06T09:30:31.506823Z"
    }
   },
   "outputs": [],
   "source": [
    "def visualize_model(model, num_images=4):\n",
    "    was_training = model.training\n",
    "    model.eval() # change model into evaluation mode\n",
    "    images_so_far = 0\n",
    "    fig = plt.figure()\n",
    "\n",
    "    with torch.no_grad():\n",
    "        for i, (inputs, labels) in enumerate(dataloaders['test']):\n",
    "            inputs = inputs.to(device) # cpu or gpu?\n",
    "            labels = labels.to(device)\n",
    "\n",
    "            outputs = model(inputs) # forward\n",
    "            _, preds = torch.max(outputs, 1) # find out which class have the biggest probability\n",
    "\n",
    "            for j in range(inputs.size()[0]):\n",
    "                images_so_far += 1\n",
    "                ax = plt.subplot(num_images//2, 2, images_so_far)\n",
    "                ax.axis('off')\n",
    "                ax.set_title('predicted: {}'.format(class_names[preds[j]]))\n",
    "                imshow(inputs.cpu().data[j])\n",
    "\n",
    "                if images_so_far == num_images:\n",
    "                    model.train(mode=was_training)\n",
    "                    return\n",
    "        model.train(mode=was_training)"
   ]
  },
  {
   "cell_type": "markdown",
   "metadata": {},
   "source": [
    "## Define Model"
   ]
  },
  {
   "cell_type": "markdown",
   "metadata": {},
   "source": [
    "**Pytorch pretrained model options:**. \n",
    "\n",
    "import torchvision.models as models\n",
    "\n",
    "* resnet18 = models.resnet18(pretrained=True)\n",
    "* alexnet = models.alexnet(pretrained=True)\n",
    "* squeezenet = models.squeezenet1_0(pretrained=True)\n",
    "* vgg16 = models.vgg16(pretrained=True)\n",
    "* densenet = models.densenet161(pretrained=True)\n",
    "* inception = models.inception_v3(pretrained=True)\n",
    "* googlenet = models.googlenet(pretrained=True)\n",
    "* shufflenet = models.shufflenet_v2_x1_0(pretrained=True)\n",
    "* mobilenet = models.mobilenet_v2(pretrained=True)\n",
    "* resnext50_32x4d = models.resnext50_32x4d(pretrained=True)\n",
    "* wide_resnet50_2 = models.wide_resnet50_2(pretrained=True)\n",
    "* mnasnet = models.mnasnet1_0(pretrained=True)"
   ]
  },
  {
   "cell_type": "code",
   "execution_count": 37,
   "metadata": {
    "ExecuteTime": {
     "end_time": "2020-02-06T09:27:25.576490Z",
     "start_time": "2020-02-06T09:27:25.109734Z"
    }
   },
   "outputs": [],
   "source": [
    "model_ft = models.resnet18(pretrained=True)\n",
    "\n",
    "# get last layer from pretrained model\n",
    "num_ftrs = model_ft.fc.in_features\n",
    "\n",
    "# Define the last linear layer\n",
    "# Here the size of each output sample is set to 8.\n",
    "# Alternatively, it can be generalized to nn.Linear(num_ftrs, len(class_names)).\n",
    "model_ft.fc = nn.Linear(num_ftrs, 8)\n",
    "\n",
    "# Save model in cpu or gpu:\n",
    "model_ft = model_ft.to(device)"
   ]
  },
  {
   "cell_type": "markdown",
   "metadata": {},
   "source": [
    "### Define your own model"
   ]
  },
  {
   "cell_type": "code",
   "execution_count": 43,
   "metadata": {
    "ExecuteTime": {
     "end_time": "2020-02-06T09:37:32.206616Z",
     "start_time": "2020-02-06T09:37:32.190410Z"
    }
   },
   "outputs": [],
   "source": [
    "class CustomizeModel(nn.Module):\n",
    "\n",
    "    def __init__(self):\n",
    "        super(Net, self).__init__()\n",
    "        # 1 input image channel, 6 output channels, 3x3 square convolution\n",
    "        # kernel\n",
    "        self.conv1 = nn.Conv2d(1, 6, 3)\n",
    "        self.conv2 = nn.Conv2d(6, 16, 3)\n",
    "        # an affine operation: y = Wx + b\n",
    "        self.fc1 = nn.Linear(16 * 6 * 6, 120)  # 6*6 from image dimension\n",
    "        self.fc2 = nn.Linear(120, 84)\n",
    "        self.fc3 = nn.Linear(84, 10)\n",
    "\n",
    "    def forward(self, x):\n",
    "        # Max pooling over a (2, 2) window\n",
    "        x = F.max_pool2d(F.relu(self.conv1(x)), (2, 2))\n",
    "        # If the size is a square you can only specify a single number\n",
    "        x = F.max_pool2d(F.relu(self.conv2(x)), 2)\n",
    "        x = x.view(-1, self.num_flat_features(x))\n",
    "        x = F.relu(self.fc1(x))\n",
    "        x = F.relu(self.fc2(x))\n",
    "        x = self.fc3(x)\n",
    "        return x\n",
    "\n",
    "    def num_flat_features(self, x):\n",
    "        size = x.size()[1:]  # all dimensions except the batch dimension\n",
    "        num_features = 1\n",
    "        for s in size:\n",
    "            num_features *= s\n",
    "        return num_features"
   ]
  },
  {
   "cell_type": "markdown",
   "metadata": {},
   "source": [
    "## Loss Function, optimizer, and learning rate scheduler"
   ]
  },
  {
   "cell_type": "markdown",
   "metadata": {},
   "source": [
    "**Common loss functions**\n",
    "\n",
    "For regression model:\n",
    "* MSE\n",
    "* MAE\n",
    "\n",
    "For classification model:\n",
    "* BinaryCrossEntropyLoss\n",
    "* CrossEntropyLoss"
   ]
  },
  {
   "cell_type": "markdown",
   "metadata": {},
   "source": [
    "**Common optimizers**\n",
    "\n",
    "* Stochastic gradient desent(SGD)\n",
    "* Adam"
   ]
  },
  {
   "cell_type": "markdown",
   "metadata": {},
   "source": [
    "**Common learning rate schedulers**\n",
    "\n",
    "* Step\n",
    "* Exponential\n",
    "* Lambda"
   ]
  },
  {
   "cell_type": "code",
   "execution_count": 38,
   "metadata": {
    "ExecuteTime": {
     "end_time": "2020-02-06T09:28:42.117869Z",
     "start_time": "2020-02-06T09:28:42.111508Z"
    }
   },
   "outputs": [],
   "source": [
    "# Criterion(loss function)\n",
    "criterion = nn.CrossEntropyLoss()\n",
    "\n",
    "# Observe that all parameters are being optimized\n",
    "optimizer_ft = optim.SGD(model_ft.parameters(), lr=0.001, momentum=0.9)\n",
    "\n",
    "# Decay LR by a factor of 0.1 every 7 epochs\n",
    "exp_lr_scheduler = lr_scheduler.StepLR(optimizer_ft, step_size=7, gamma=0.1)"
   ]
  },
  {
   "cell_type": "markdown",
   "metadata": {},
   "source": [
    "## Start training loop..."
   ]
  },
  {
   "cell_type": "code",
   "execution_count": 39,
   "metadata": {
    "ExecuteTime": {
     "end_time": "2020-02-06T09:29:53.212071Z",
     "start_time": "2020-02-06T09:28:46.725720Z"
    }
   },
   "outputs": [
    {
     "name": "stdout",
     "output_type": "stream",
     "text": [
      "Epoch 0/9\n",
      "----------\n",
      "train Loss: 2.3722 Acc: 0.0000\n",
      "test Loss: 2.1522 Acc: 0.1111\n",
      "\n",
      "Epoch 1/9\n",
      "----------\n",
      "train Loss: 1.9786 Acc: 0.2500\n",
      "test Loss: 2.9515 Acc: 0.0000\n",
      "\n",
      "Epoch 2/9\n",
      "----------\n",
      "train Loss: 1.8141 Acc: 0.3000\n",
      "test Loss: 3.1869 Acc: 0.0000\n",
      "\n",
      "Epoch 3/9\n",
      "----------\n",
      "train Loss: 1.3593 Acc: 0.6000\n",
      "test Loss: 2.7061 Acc: 0.2222\n",
      "\n",
      "Epoch 4/9\n",
      "----------\n",
      "train Loss: 1.4796 Acc: 0.5000\n",
      "test Loss: 3.0648 Acc: 0.1111\n",
      "\n",
      "Epoch 5/9\n",
      "----------\n",
      "train Loss: 0.8414 Acc: 0.9500\n",
      "test Loss: 3.5564 Acc: 0.2222\n",
      "\n",
      "Epoch 6/9\n",
      "----------\n",
      "train Loss: 0.8339 Acc: 0.8000\n",
      "test Loss: 3.8447 Acc: 0.2222\n",
      "\n",
      "Epoch 7/9\n",
      "----------\n",
      "train Loss: 0.6419 Acc: 0.9500\n",
      "test Loss: 3.7260 Acc: 0.2222\n",
      "\n",
      "Epoch 8/9\n",
      "----------\n",
      "train Loss: 0.7503 Acc: 0.9000\n",
      "test Loss: 3.8039 Acc: 0.2222\n",
      "\n",
      "Epoch 9/9\n",
      "----------\n",
      "train Loss: 0.7173 Acc: 0.9000\n",
      "test Loss: 3.9395 Acc: 0.2222\n",
      "\n",
      "Training complete in 1m 6s\n",
      "Best test Acc: 0.222222\n"
     ]
    }
   ],
   "source": [
    "model_ft = train_model(model_ft, criterion, optimizer_ft, exp_lr_scheduler,\n",
    "                       num_epochs=10)"
   ]
  },
  {
   "cell_type": "markdown",
   "metadata": {},
   "source": [
    "## Check outputs (evaluation and model inference)"
   ]
  },
  {
   "cell_type": "code",
   "execution_count": 42,
   "metadata": {
    "ExecuteTime": {
     "end_time": "2020-02-06T09:30:35.876757Z",
     "start_time": "2020-02-06T09:30:34.876291Z"
    }
   },
   "outputs": [
    {
     "data": {
      "image/png": "[encoded data removed]",
      "text/plain": [
       "<Figure size 432x288 with 1 Axes>"
      ]
     },
     "metadata": {
      "needs_background": "light"
     },
     "output_type": "display_data"
    },
    {
     "data": {
      "image/png": "[encoded data removed]",
      "text/plain": [
       "<Figure size 432x288 with 1 Axes>"
      ]
     },
     "metadata": {
      "needs_background": "light"
     },
     "output_type": "display_data"
    },
    {
     "data": {
      "image/png": "[encoded data removed]",
      "text/plain": [
       "<Figure size 432x288 with 1 Axes>"
      ]
     },
     "metadata": {
      "needs_background": "light"
     },
     "output_type": "display_data"
    },
    {
     "data": {
      "image/png": "[encoded data removed]",
      "text/plain": [
       "<Figure size 432x288 with 1 Axes>"
      ]
     },
     "metadata": {
      "needs_background": "light"
     },
     "output_type": "display_data"
    }
   ],
   "source": [
    "visualize_model(model_ft)"
   ]
  },
  {
   "cell_type": "markdown",
   "metadata": {},
   "source": [
    "## Visualize your training loop\n",
    "\n",
    "**Reference**\n",
    "https://pytorch.org/tutorials/intermediate/tensorboard_tutorial.html"
   ]
  },
  {
   "cell_type": "markdown",
   "metadata": {},
   "source": [
    "<img src=\"img/tensorboard.png\">"
   ]
  },
  {
   "cell_type": "markdown",
   "metadata": {},
   "source": [
    "# How To Improve Your Model?"
   ]
  },
  {
   "cell_type": "markdown",
   "metadata": {},
   "source": [
    "## Reduce overfitting\n",
    "\n",
    "* Get more data\n",
    "* Add more features\n",
    "* Try different data preprocessing methods\n",
    "* Reduce size of model\n",
    "* Add weight regularizer\n",
    "* Apply dropout\n",
    "\n",
    "## Better model\n",
    "\n",
    "* Try bigger model\n",
    "* Add more layers\n",
    "* Try different architecture\n",
    "* Try different activation function\n",
    "\n",
    "## Training options\n",
    "\n",
    "* Try different optimizer\n",
    "* Try different loss function\n",
    "* More epochs\n",
    "* Try differnt batch size\n",
    "* Try different learning rate\n",
    "* Different learning rate schedule strategies\n",
    "\n",
    "## Learn from others\n",
    "\n",
    "* Learning from social network"
   ]
  },
  {
   "cell_type": "markdown",
   "metadata": {},
   "source": [
    "# Homework"
   ]
  },
  {
   "cell_type": "markdown",
   "metadata": {},
   "source": [
    "* Make 5 minutes presentation\n",
    "* Compare what's the different of tensorflow and pytorch\n",
    "* Review by Jackie Lo"
   ]
  }
 ],
 "metadata": {
  "kernelspec": {
   "display_name": "Python 3",
   "language": "python",
   "name": "python3"
  },
  "language_info": {
   "codemirror_mode": {
    "name": "ipython",
    "version": 3
   },
   "file_extension": ".py",
   "mimetype": "text/x-python",
   "name": "python",
   "nbconvert_exporter": "python",
   "pygments_lexer": "ipython3",
   "version": "3.7.3"
  },
  "toc": {
   "base_numbering": 1,
   "nav_menu": {},
   "number_sections": true,
   "sideBar": true,
   "skip_h1_title": false,
   "title_cell": "Table of Contents",
   "title_sidebar": "Contents",
   "toc_cell": false,
   "toc_position": {
    "height": "calc(100% - 180px)",
    "left": "10px",
    "top": "150px",
    "width": "206.796875px"
   },
   "toc_section_display": true,
   "toc_window_display": true
  },
  "varInspector": {
   "cols": {
    "lenName": 16,
    "lenType": 16,
    "lenVar": 40
   },
   "kernels_config": {
    "python": {
     "delete_cmd_postfix": "",
     "delete_cmd_prefix": "del ",
     "library": "var_list.py",
     "varRefreshCmd": "print(var_dic_list())"
    },
    "r": {
     "delete_cmd_postfix": ") ",
     "delete_cmd_prefix": "rm(",
     "library": "var_list.r",
     "varRefreshCmd": "cat(var_dic_list()) "
    }
   },
   "types_to_exclude": [
    "module",
    "function",
    "builtin_function_or_method",
    "instance",
    "_Feature"
   ],
   "window_display": false
  }
 },
 "nbformat": 4,
 "nbformat_minor": 2
}
